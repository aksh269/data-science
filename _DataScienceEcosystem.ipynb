{
 "cells": [
  {
   "cell_type": "markdown",
   "id": "e8bbbfbd-11a1-410d-ab40-1636c5737f68",
   "metadata": {
    "slideshow": {
     "slide_type": "slide"
    },
    "tags": [
     "h1"
    ]
   },
   "source": [
    "Data Science Tools and Ecosystem"
   ]
  },
  {
   "cell_type": "markdown",
   "id": "ee277262-c289-47eb-965e-b40be32ff9a6",
   "metadata": {
    "tags": [
     "h1"
    ]
   },
   "source": [
    "In this notebook, Data Science Tools and Ecosystem are summarized."
   ]
  },
  {
   "cell_type": "markdown",
   "id": "8c72674a-c388-4ebf-8a93-8d61a7e5f4bd",
   "metadata": {
    "tags": [
     "ul"
    ]
   },
   "source": [
    "some of the most popular language which Data Scientists use are:\n",
    "    1.Python\n",
    "    2.R\n",
    "    3.SQL\n",
    "    4.C++\n",
    "    "
   ]
  },
  {
   "cell_type": "markdown",
   "id": "5bb61c1c-496b-4914-bf19-d24652058635",
   "metadata": {
    "tags": [
     "ul"
    ]
   },
   "source": [
    "Some of the commonly used libraries used by Data Scientists include:\n",
    "1.TEnserFLow\n",
    "2.NUmpy.\n",
    "3.Scipy\n",
    "4.Pandas\n",
    "5.Matplotlib.\n",
    "6.Keras\n",
    "    "
   ]
  },
  {
   "cell_type": "markdown",
   "id": "22fb5302-f086-4a74-9d20-39f138573d1e",
   "metadata": {},
   "source": [
    "|Data Science tools |\n",
    "|---|\n",
    "|Apachi Hadoop|\n",
    "|Tenser Flow |\n",
    "|SAS|"
   ]
  },
  {
   "cell_type": "markdown",
   "id": "3854274f-2568-45d1-b0d9-f513b926a6b8",
   "metadata": {
    "slideshow": {
     "slide_type": "fragment"
    },
    "tags": [
     "h3"
    ]
   },
   "source": [
    "Below are a few examples of evaluating arithmetic expressions in Python\n"
   ]
  },
  {
   "cell_type": "code",
   "execution_count": 2,
   "id": "aa93a162-e365-402c-8685-c06ff6794f9d",
   "metadata": {
    "tags": []
   },
   "outputs": [
    {
     "data": {
      "text/plain": [
       "17"
      ]
     },
     "execution_count": 2,
     "metadata": {},
     "output_type": "execute_result"
    }
   ],
   "source": [
    "# This a simple arithmetic expression to mutiply then add integers\n",
    "(3*4)+5"
   ]
  },
  {
   "cell_type": "code",
   "execution_count": 3,
   "id": "892079bc-aba6-4b12-8e8a-5337a2beebbc",
   "metadata": {
    "tags": []
   },
   "outputs": [
    {
     "data": {
      "text/plain": [
       "3.3333333333333335"
      ]
     },
     "execution_count": 3,
     "metadata": {},
     "output_type": "execute_result"
    }
   ],
   "source": [
    "# This will convert 200 minutes to hours by diving by 60\n",
    "200/60"
   ]
  },
  {
   "cell_type": "markdown",
   "id": "e1773076-3de3-43c0-b2a0-411eca9803b3",
   "metadata": {
    "tags": []
   },
   "source": [
    "__objective__\n",
    "*List the Popular language for Data Science \n",
    "*List popular  libraries for Data science \n",
    "*List of Well known data science tool \n",
    "*How to provide comments in cell "
   ]
  },
  {
   "cell_type": "markdown",
   "id": "1a52abee-0a62-420a-a968-179d6953840e",
   "metadata": {
    "tags": [
     "h2",
     "ul"
    ]
   },
   "source": [
    "#Author \n",
    " aksh patel"
   ]
  }
 ],
 "metadata": {
  "kernelspec": {
   "display_name": "Python",
   "language": "python",
   "name": "conda-env-python-py"
  },
  "language_info": {
   "codemirror_mode": {
    "name": "ipython",
    "version": 3
   },
   "file_extension": ".py",
   "mimetype": "text/x-python",
   "name": "python",
   "nbconvert_exporter": "python",
   "pygments_lexer": "ipython3",
   "version": "3.7.12"
  },
  "toc-autonumbering": false,
  "toc-showcode": false,
  "toc-showmarkdowntxt": true,
  "toc-showtags": true
 },
 "nbformat": 4,
 "nbformat_minor": 5
}
